{
 "cells": [
  {
   "cell_type": "markdown",
   "metadata": {},
   "source": [
    "# Application 2: CollabMap Data Quality\n",
    "Assessing the quality of crowdsourced data in CollabMap from their provenance\n",
    "\n",
    "* **Goal**: To determine if the provenance network analytics method can identify trustworthy data (i.e. buildings, routes, and route sets) contributed by crowd workers in [CollabMap](https://collabmap.org/).\n",
    "* **Classification labels**: $\\mathcal{L} = \\left\\{ \\textit{trusted}, \\textit{uncertain} \\right\\} $.\n",
    "* **Training data**:\n",
    "  - Buildings: 5175\n",
    "  - Routes: 4710\n",
    "  - Route sets: 4997\n",
    "\n"
   ]
  },
  {
   "cell_type": "markdown",
   "metadata": {},
   "source": [
    "## Reading data\n",
    "The CollabMap dataset is provided in the [`collabmap/depgraphs.csv`](collabmap/depgraphs.csv) file, each row corresponds to a building, route, or route sets created in the application:\n",
    "* `id`: the identifier of the data entity (i.e. building/route/route set).\n",
    "* `trust_value`: the beta trust value calculated from the votes for the data entity.\n",
    "* The remaining columns provide the provenance network metrics calculated from the dependency provenance graph of the entity."
   ]
  },
  {
   "cell_type": "code",
   "execution_count": 1,
   "metadata": {
    "collapsed": true
   },
   "outputs": [],
   "source": [
    "import pandas as pd"
   ]
  },
  {
   "cell_type": "code",
   "execution_count": 2,
   "metadata": {},
   "outputs": [
    {
     "data": {
      "text/html": [
       "<div>\n",
       "<style>\n",
       "    .dataframe thead tr:only-child th {\n",
       "        text-align: right;\n",
       "    }\n",
       "\n",
       "    .dataframe thead th {\n",
       "        text-align: left;\n",
       "    }\n",
       "\n",
       "    .dataframe tbody tr th {\n",
       "        vertical-align: top;\n",
       "    }\n",
       "</style>\n",
       "<table border=\"1\" class=\"dataframe\">\n",
       "  <thead>\n",
       "    <tr style=\"text-align: right;\">\n",
       "      <th></th>\n",
       "      <th>trust_value</th>\n",
       "      <th>entities</th>\n",
       "      <th>agents</th>\n",
       "      <th>activities</th>\n",
       "      <th>nodes</th>\n",
       "      <th>edges</th>\n",
       "      <th>diameter</th>\n",
       "      <th>assortativity</th>\n",
       "      <th>acc</th>\n",
       "      <th>acc_e</th>\n",
       "      <th>...</th>\n",
       "      <th>mfd_e_a</th>\n",
       "      <th>mfd_e_ag</th>\n",
       "      <th>mfd_a_e</th>\n",
       "      <th>mfd_a_a</th>\n",
       "      <th>mfd_a_ag</th>\n",
       "      <th>mfd_ag_e</th>\n",
       "      <th>mfd_ag_a</th>\n",
       "      <th>mfd_ag_ag</th>\n",
       "      <th>mfd_der</th>\n",
       "      <th>powerlaw_alpha</th>\n",
       "    </tr>\n",
       "    <tr>\n",
       "      <th>id</th>\n",
       "      <th></th>\n",
       "      <th></th>\n",
       "      <th></th>\n",
       "      <th></th>\n",
       "      <th></th>\n",
       "      <th></th>\n",
       "      <th></th>\n",
       "      <th></th>\n",
       "      <th></th>\n",
       "      <th></th>\n",
       "      <th></th>\n",
       "      <th></th>\n",
       "      <th></th>\n",
       "      <th></th>\n",
       "      <th></th>\n",
       "      <th></th>\n",
       "      <th></th>\n",
       "      <th></th>\n",
       "      <th></th>\n",
       "      <th></th>\n",
       "      <th></th>\n",
       "    </tr>\n",
       "  </thead>\n",
       "  <tbody>\n",
       "    <tr>\n",
       "      <th>Route41053.0</th>\n",
       "      <td>0.833333</td>\n",
       "      <td>9</td>\n",
       "      <td>0</td>\n",
       "      <td>6</td>\n",
       "      <td>15</td>\n",
       "      <td>26</td>\n",
       "      <td>3</td>\n",
       "      <td>-0.272207</td>\n",
       "      <td>0.891091</td>\n",
       "      <td>0.809409</td>\n",
       "      <td>...</td>\n",
       "      <td>1</td>\n",
       "      <td>0</td>\n",
       "      <td>2</td>\n",
       "      <td>0</td>\n",
       "      <td>0</td>\n",
       "      <td>0</td>\n",
       "      <td>0</td>\n",
       "      <td>0</td>\n",
       "      <td>2</td>\n",
       "      <td>-1.00000</td>\n",
       "    </tr>\n",
       "    <tr>\n",
       "      <th>RouteSet9042.1</th>\n",
       "      <td>0.600000</td>\n",
       "      <td>6</td>\n",
       "      <td>0</td>\n",
       "      <td>3</td>\n",
       "      <td>9</td>\n",
       "      <td>15</td>\n",
       "      <td>2</td>\n",
       "      <td>-0.412974</td>\n",
       "      <td>0.879630</td>\n",
       "      <td>0.847222</td>\n",
       "      <td>...</td>\n",
       "      <td>1</td>\n",
       "      <td>0</td>\n",
       "      <td>1</td>\n",
       "      <td>0</td>\n",
       "      <td>0</td>\n",
       "      <td>0</td>\n",
       "      <td>0</td>\n",
       "      <td>0</td>\n",
       "      <td>1</td>\n",
       "      <td>-1.00000</td>\n",
       "    </tr>\n",
       "    <tr>\n",
       "      <th>Building19305.0</th>\n",
       "      <td>0.428571</td>\n",
       "      <td>6</td>\n",
       "      <td>0</td>\n",
       "      <td>4</td>\n",
       "      <td>10</td>\n",
       "      <td>13</td>\n",
       "      <td>2</td>\n",
       "      <td>-0.527046</td>\n",
       "      <td>0.901235</td>\n",
       "      <td>0.822222</td>\n",
       "      <td>...</td>\n",
       "      <td>1</td>\n",
       "      <td>0</td>\n",
       "      <td>1</td>\n",
       "      <td>0</td>\n",
       "      <td>0</td>\n",
       "      <td>0</td>\n",
       "      <td>0</td>\n",
       "      <td>0</td>\n",
       "      <td>1</td>\n",
       "      <td>3.19876</td>\n",
       "    </tr>\n",
       "    <tr>\n",
       "      <th>Building1136.0</th>\n",
       "      <td>0.428571</td>\n",
       "      <td>6</td>\n",
       "      <td>0</td>\n",
       "      <td>4</td>\n",
       "      <td>10</td>\n",
       "      <td>13</td>\n",
       "      <td>2</td>\n",
       "      <td>-0.527046</td>\n",
       "      <td>0.901235</td>\n",
       "      <td>0.822222</td>\n",
       "      <td>...</td>\n",
       "      <td>1</td>\n",
       "      <td>0</td>\n",
       "      <td>1</td>\n",
       "      <td>0</td>\n",
       "      <td>0</td>\n",
       "      <td>0</td>\n",
       "      <td>0</td>\n",
       "      <td>0</td>\n",
       "      <td>1</td>\n",
       "      <td>3.19876</td>\n",
       "    </tr>\n",
       "    <tr>\n",
       "      <th>Building24156.0</th>\n",
       "      <td>0.833333</td>\n",
       "      <td>9</td>\n",
       "      <td>0</td>\n",
       "      <td>5</td>\n",
       "      <td>14</td>\n",
       "      <td>24</td>\n",
       "      <td>3</td>\n",
       "      <td>-0.363937</td>\n",
       "      <td>0.838034</td>\n",
       "      <td>0.757639</td>\n",
       "      <td>...</td>\n",
       "      <td>2</td>\n",
       "      <td>0</td>\n",
       "      <td>2</td>\n",
       "      <td>2</td>\n",
       "      <td>0</td>\n",
       "      <td>0</td>\n",
       "      <td>0</td>\n",
       "      <td>0</td>\n",
       "      <td>2</td>\n",
       "      <td>-1.00000</td>\n",
       "    </tr>\n",
       "  </tbody>\n",
       "</table>\n",
       "<p>5 rows × 23 columns</p>\n",
       "</div>"
      ],
      "text/plain": [
       "                 trust_value  entities  agents  activities  nodes  edges  \\\n",
       "id                                                                         \n",
       "Route41053.0        0.833333         9       0           6     15     26   \n",
       "RouteSet9042.1      0.600000         6       0           3      9     15   \n",
       "Building19305.0     0.428571         6       0           4     10     13   \n",
       "Building1136.0      0.428571         6       0           4     10     13   \n",
       "Building24156.0     0.833333         9       0           5     14     24   \n",
       "\n",
       "                 diameter  assortativity       acc     acc_e       ...        \\\n",
       "id                                                                 ...         \n",
       "Route41053.0            3      -0.272207  0.891091  0.809409       ...         \n",
       "RouteSet9042.1          2      -0.412974  0.879630  0.847222       ...         \n",
       "Building19305.0         2      -0.527046  0.901235  0.822222       ...         \n",
       "Building1136.0          2      -0.527046  0.901235  0.822222       ...         \n",
       "Building24156.0         3      -0.363937  0.838034  0.757639       ...         \n",
       "\n",
       "                 mfd_e_a  mfd_e_ag  mfd_a_e  mfd_a_a  mfd_a_ag  mfd_ag_e  \\\n",
       "id                                                                         \n",
       "Route41053.0           1         0        2        0         0         0   \n",
       "RouteSet9042.1         1         0        1        0         0         0   \n",
       "Building19305.0        1         0        1        0         0         0   \n",
       "Building1136.0         1         0        1        0         0         0   \n",
       "Building24156.0        2         0        2        2         0         0   \n",
       "\n",
       "                 mfd_ag_a  mfd_ag_ag  mfd_der  powerlaw_alpha  \n",
       "id                                                             \n",
       "Route41053.0            0          0        2        -1.00000  \n",
       "RouteSet9042.1          0          0        1        -1.00000  \n",
       "Building19305.0         0          0        1         3.19876  \n",
       "Building1136.0          0          0        1         3.19876  \n",
       "Building24156.0         0          0        2        -1.00000  \n",
       "\n",
       "[5 rows x 23 columns]"
      ]
     },
     "execution_count": 2,
     "metadata": {},
     "output_type": "execute_result"
    }
   ],
   "source": [
    "df = pd.read_csv(\"collabmap/depgraphs.csv\", index_col='id')\n",
    "df.head()"
   ]
  },
  {
   "cell_type": "code",
   "execution_count": 3,
   "metadata": {},
   "outputs": [
    {
     "data": {
      "text/html": [
       "<div>\n",
       "<style>\n",
       "    .dataframe thead tr:only-child th {\n",
       "        text-align: right;\n",
       "    }\n",
       "\n",
       "    .dataframe thead th {\n",
       "        text-align: left;\n",
       "    }\n",
       "\n",
       "    .dataframe tbody tr th {\n",
       "        vertical-align: top;\n",
       "    }\n",
       "</style>\n",
       "<table border=\"1\" class=\"dataframe\">\n",
       "  <thead>\n",
       "    <tr style=\"text-align: right;\">\n",
       "      <th></th>\n",
       "      <th>trust_value</th>\n",
       "      <th>entities</th>\n",
       "      <th>agents</th>\n",
       "      <th>activities</th>\n",
       "      <th>nodes</th>\n",
       "      <th>edges</th>\n",
       "      <th>diameter</th>\n",
       "      <th>assortativity</th>\n",
       "      <th>acc</th>\n",
       "      <th>acc_e</th>\n",
       "      <th>...</th>\n",
       "      <th>mfd_e_a</th>\n",
       "      <th>mfd_e_ag</th>\n",
       "      <th>mfd_a_e</th>\n",
       "      <th>mfd_a_a</th>\n",
       "      <th>mfd_a_ag</th>\n",
       "      <th>mfd_ag_e</th>\n",
       "      <th>mfd_ag_a</th>\n",
       "      <th>mfd_ag_ag</th>\n",
       "      <th>mfd_der</th>\n",
       "      <th>powerlaw_alpha</th>\n",
       "    </tr>\n",
       "  </thead>\n",
       "  <tbody>\n",
       "    <tr>\n",
       "      <th>count</th>\n",
       "      <td>14882.000000</td>\n",
       "      <td>14882.000000</td>\n",
       "      <td>14882.0</td>\n",
       "      <td>14882.000000</td>\n",
       "      <td>14882.000000</td>\n",
       "      <td>14882.000000</td>\n",
       "      <td>14882.000000</td>\n",
       "      <td>14882.000000</td>\n",
       "      <td>14882.000000</td>\n",
       "      <td>14882.000000</td>\n",
       "      <td>...</td>\n",
       "      <td>14882.000000</td>\n",
       "      <td>14882.0</td>\n",
       "      <td>14882.000000</td>\n",
       "      <td>14882.000000</td>\n",
       "      <td>14882.0</td>\n",
       "      <td>14882.0</td>\n",
       "      <td>14882.0</td>\n",
       "      <td>14882.0</td>\n",
       "      <td>14882.000000</td>\n",
       "      <td>14882.000000</td>\n",
       "    </tr>\n",
       "    <tr>\n",
       "      <th>mean</th>\n",
       "      <td>0.766706</td>\n",
       "      <td>13.384693</td>\n",
       "      <td>0.0</td>\n",
       "      <td>6.793375</td>\n",
       "      <td>20.178067</td>\n",
       "      <td>39.118868</td>\n",
       "      <td>2.771267</td>\n",
       "      <td>-0.363791</td>\n",
       "      <td>0.806123</td>\n",
       "      <td>0.762426</td>\n",
       "      <td>...</td>\n",
       "      <td>1.545424</td>\n",
       "      <td>0.0</td>\n",
       "      <td>1.742575</td>\n",
       "      <td>0.987166</td>\n",
       "      <td>0.0</td>\n",
       "      <td>0.0</td>\n",
       "      <td>0.0</td>\n",
       "      <td>0.0</td>\n",
       "      <td>1.802782</td>\n",
       "      <td>-0.226061</td>\n",
       "    </tr>\n",
       "    <tr>\n",
       "      <th>std</th>\n",
       "      <td>0.115301</td>\n",
       "      <td>17.165677</td>\n",
       "      <td>0.0</td>\n",
       "      <td>7.247706</td>\n",
       "      <td>24.147888</td>\n",
       "      <td>59.648535</td>\n",
       "      <td>0.917298</td>\n",
       "      <td>0.238658</td>\n",
       "      <td>0.203627</td>\n",
       "      <td>0.200090</td>\n",
       "      <td>...</td>\n",
       "      <td>1.044079</td>\n",
       "      <td>0.0</td>\n",
       "      <td>1.012615</td>\n",
       "      <td>1.391763</td>\n",
       "      <td>0.0</td>\n",
       "      <td>0.0</td>\n",
       "      <td>0.0</td>\n",
       "      <td>0.0</td>\n",
       "      <td>0.938974</td>\n",
       "      <td>1.590865</td>\n",
       "    </tr>\n",
       "    <tr>\n",
       "      <th>min</th>\n",
       "      <td>0.153846</td>\n",
       "      <td>2.000000</td>\n",
       "      <td>0.0</td>\n",
       "      <td>0.000000</td>\n",
       "      <td>2.000000</td>\n",
       "      <td>1.000000</td>\n",
       "      <td>1.000000</td>\n",
       "      <td>-1.000000</td>\n",
       "      <td>0.000000</td>\n",
       "      <td>0.000000</td>\n",
       "      <td>...</td>\n",
       "      <td>0.000000</td>\n",
       "      <td>0.0</td>\n",
       "      <td>0.000000</td>\n",
       "      <td>0.000000</td>\n",
       "      <td>0.0</td>\n",
       "      <td>0.0</td>\n",
       "      <td>0.0</td>\n",
       "      <td>0.0</td>\n",
       "      <td>1.000000</td>\n",
       "      <td>-1.000000</td>\n",
       "    </tr>\n",
       "    <tr>\n",
       "      <th>25%</th>\n",
       "      <td>0.750000</td>\n",
       "      <td>5.000000</td>\n",
       "      <td>0.0</td>\n",
       "      <td>2.000000</td>\n",
       "      <td>7.000000</td>\n",
       "      <td>10.000000</td>\n",
       "      <td>2.000000</td>\n",
       "      <td>-0.500000</td>\n",
       "      <td>0.820309</td>\n",
       "      <td>0.757639</td>\n",
       "      <td>...</td>\n",
       "      <td>1.000000</td>\n",
       "      <td>0.0</td>\n",
       "      <td>1.000000</td>\n",
       "      <td>0.000000</td>\n",
       "      <td>0.0</td>\n",
       "      <td>0.0</td>\n",
       "      <td>0.0</td>\n",
       "      <td>0.0</td>\n",
       "      <td>1.000000</td>\n",
       "      <td>-1.000000</td>\n",
       "    </tr>\n",
       "    <tr>\n",
       "      <th>50%</th>\n",
       "      <td>0.800000</td>\n",
       "      <td>9.000000</td>\n",
       "      <td>0.0</td>\n",
       "      <td>5.000000</td>\n",
       "      <td>14.000000</td>\n",
       "      <td>24.000000</td>\n",
       "      <td>3.000000</td>\n",
       "      <td>-0.330835</td>\n",
       "      <td>0.849790</td>\n",
       "      <td>0.809409</td>\n",
       "      <td>...</td>\n",
       "      <td>1.000000</td>\n",
       "      <td>0.0</td>\n",
       "      <td>2.000000</td>\n",
       "      <td>0.000000</td>\n",
       "      <td>0.0</td>\n",
       "      <td>0.0</td>\n",
       "      <td>0.0</td>\n",
       "      <td>0.0</td>\n",
       "      <td>2.000000</td>\n",
       "      <td>-1.000000</td>\n",
       "    </tr>\n",
       "    <tr>\n",
       "      <th>75%</th>\n",
       "      <td>0.833333</td>\n",
       "      <td>14.000000</td>\n",
       "      <td>0.0</td>\n",
       "      <td>9.000000</td>\n",
       "      <td>22.000000</td>\n",
       "      <td>40.000000</td>\n",
       "      <td>3.000000</td>\n",
       "      <td>-0.251256</td>\n",
       "      <td>0.880083</td>\n",
       "      <td>0.854159</td>\n",
       "      <td>...</td>\n",
       "      <td>2.000000</td>\n",
       "      <td>0.0</td>\n",
       "      <td>2.000000</td>\n",
       "      <td>2.000000</td>\n",
       "      <td>0.0</td>\n",
       "      <td>0.0</td>\n",
       "      <td>0.0</td>\n",
       "      <td>0.0</td>\n",
       "      <td>2.000000</td>\n",
       "      <td>-1.000000</td>\n",
       "    </tr>\n",
       "    <tr>\n",
       "      <th>max</th>\n",
       "      <td>0.965517</td>\n",
       "      <td>178.000000</td>\n",
       "      <td>0.0</td>\n",
       "      <td>70.000000</td>\n",
       "      <td>248.000000</td>\n",
       "      <td>706.000000</td>\n",
       "      <td>13.000000</td>\n",
       "      <td>0.494008</td>\n",
       "      <td>1.000000</td>\n",
       "      <td>1.000000</td>\n",
       "      <td>...</td>\n",
       "      <td>13.000000</td>\n",
       "      <td>0.0</td>\n",
       "      <td>12.000000</td>\n",
       "      <td>13.000000</td>\n",
       "      <td>0.0</td>\n",
       "      <td>0.0</td>\n",
       "      <td>0.0</td>\n",
       "      <td>0.0</td>\n",
       "      <td>12.000000</td>\n",
       "      <td>4.674298</td>\n",
       "    </tr>\n",
       "  </tbody>\n",
       "</table>\n",
       "<p>8 rows × 23 columns</p>\n",
       "</div>"
      ],
      "text/plain": [
       "        trust_value      entities   agents    activities         nodes  \\\n",
       "count  14882.000000  14882.000000  14882.0  14882.000000  14882.000000   \n",
       "mean       0.766706     13.384693      0.0      6.793375     20.178067   \n",
       "std        0.115301     17.165677      0.0      7.247706     24.147888   \n",
       "min        0.153846      2.000000      0.0      0.000000      2.000000   \n",
       "25%        0.750000      5.000000      0.0      2.000000      7.000000   \n",
       "50%        0.800000      9.000000      0.0      5.000000     14.000000   \n",
       "75%        0.833333     14.000000      0.0      9.000000     22.000000   \n",
       "max        0.965517    178.000000      0.0     70.000000    248.000000   \n",
       "\n",
       "              edges      diameter  assortativity           acc         acc_e  \\\n",
       "count  14882.000000  14882.000000   14882.000000  14882.000000  14882.000000   \n",
       "mean      39.118868      2.771267      -0.363791      0.806123      0.762426   \n",
       "std       59.648535      0.917298       0.238658      0.203627      0.200090   \n",
       "min        1.000000      1.000000      -1.000000      0.000000      0.000000   \n",
       "25%       10.000000      2.000000      -0.500000      0.820309      0.757639   \n",
       "50%       24.000000      3.000000      -0.330835      0.849790      0.809409   \n",
       "75%       40.000000      3.000000      -0.251256      0.880083      0.854159   \n",
       "max      706.000000     13.000000       0.494008      1.000000      1.000000   \n",
       "\n",
       "            ...             mfd_e_a  mfd_e_ag       mfd_a_e       mfd_a_a  \\\n",
       "count       ...        14882.000000   14882.0  14882.000000  14882.000000   \n",
       "mean        ...            1.545424       0.0      1.742575      0.987166   \n",
       "std         ...            1.044079       0.0      1.012615      1.391763   \n",
       "min         ...            0.000000       0.0      0.000000      0.000000   \n",
       "25%         ...            1.000000       0.0      1.000000      0.000000   \n",
       "50%         ...            1.000000       0.0      2.000000      0.000000   \n",
       "75%         ...            2.000000       0.0      2.000000      2.000000   \n",
       "max         ...           13.000000       0.0     12.000000     13.000000   \n",
       "\n",
       "       mfd_a_ag  mfd_ag_e  mfd_ag_a  mfd_ag_ag       mfd_der  powerlaw_alpha  \n",
       "count   14882.0   14882.0   14882.0    14882.0  14882.000000    14882.000000  \n",
       "mean        0.0       0.0       0.0        0.0      1.802782       -0.226061  \n",
       "std         0.0       0.0       0.0        0.0      0.938974        1.590865  \n",
       "min         0.0       0.0       0.0        0.0      1.000000       -1.000000  \n",
       "25%         0.0       0.0       0.0        0.0      1.000000       -1.000000  \n",
       "50%         0.0       0.0       0.0        0.0      2.000000       -1.000000  \n",
       "75%         0.0       0.0       0.0        0.0      2.000000       -1.000000  \n",
       "max         0.0       0.0       0.0        0.0     12.000000        4.674298  \n",
       "\n",
       "[8 rows x 23 columns]"
      ]
     },
     "execution_count": 3,
     "metadata": {},
     "output_type": "execute_result"
    }
   ],
   "source": [
    "df.describe()"
   ]
  },
  {
   "cell_type": "markdown",
   "metadata": {},
   "source": [
    "## Labelling data\n",
    "Based on its trust value, we categorise the data entity into two sets: _trusted_ and _uncertain_. Here, the threshold for the trust value, whose range is [0, 1], is chosen to be 0.75."
   ]
  },
  {
   "cell_type": "code",
   "execution_count": 4,
   "metadata": {},
   "outputs": [
    {
     "data": {
      "text/html": [
       "<div>\n",
       "<style>\n",
       "    .dataframe thead tr:only-child th {\n",
       "        text-align: right;\n",
       "    }\n",
       "\n",
       "    .dataframe thead th {\n",
       "        text-align: left;\n",
       "    }\n",
       "\n",
       "    .dataframe tbody tr th {\n",
       "        vertical-align: top;\n",
       "    }\n",
       "</style>\n",
       "<table border=\"1\" class=\"dataframe\">\n",
       "  <thead>\n",
       "    <tr style=\"text-align: right;\">\n",
       "      <th></th>\n",
       "      <th>trust_value</th>\n",
       "      <th>entities</th>\n",
       "      <th>agents</th>\n",
       "      <th>activities</th>\n",
       "      <th>nodes</th>\n",
       "      <th>edges</th>\n",
       "      <th>diameter</th>\n",
       "      <th>assortativity</th>\n",
       "      <th>acc</th>\n",
       "      <th>acc_e</th>\n",
       "      <th>...</th>\n",
       "      <th>mfd_e_ag</th>\n",
       "      <th>mfd_a_e</th>\n",
       "      <th>mfd_a_a</th>\n",
       "      <th>mfd_a_ag</th>\n",
       "      <th>mfd_ag_e</th>\n",
       "      <th>mfd_ag_a</th>\n",
       "      <th>mfd_ag_ag</th>\n",
       "      <th>mfd_der</th>\n",
       "      <th>powerlaw_alpha</th>\n",
       "      <th>label</th>\n",
       "    </tr>\n",
       "    <tr>\n",
       "      <th>id</th>\n",
       "      <th></th>\n",
       "      <th></th>\n",
       "      <th></th>\n",
       "      <th></th>\n",
       "      <th></th>\n",
       "      <th></th>\n",
       "      <th></th>\n",
       "      <th></th>\n",
       "      <th></th>\n",
       "      <th></th>\n",
       "      <th></th>\n",
       "      <th></th>\n",
       "      <th></th>\n",
       "      <th></th>\n",
       "      <th></th>\n",
       "      <th></th>\n",
       "      <th></th>\n",
       "      <th></th>\n",
       "      <th></th>\n",
       "      <th></th>\n",
       "      <th></th>\n",
       "    </tr>\n",
       "  </thead>\n",
       "  <tbody>\n",
       "    <tr>\n",
       "      <th>Route41053.0</th>\n",
       "      <td>0.833333</td>\n",
       "      <td>9</td>\n",
       "      <td>0</td>\n",
       "      <td>6</td>\n",
       "      <td>15</td>\n",
       "      <td>26</td>\n",
       "      <td>3</td>\n",
       "      <td>-0.272207</td>\n",
       "      <td>0.891091</td>\n",
       "      <td>0.809409</td>\n",
       "      <td>...</td>\n",
       "      <td>0</td>\n",
       "      <td>2</td>\n",
       "      <td>0</td>\n",
       "      <td>0</td>\n",
       "      <td>0</td>\n",
       "      <td>0</td>\n",
       "      <td>0</td>\n",
       "      <td>2</td>\n",
       "      <td>-1.00000</td>\n",
       "      <td>Trusted</td>\n",
       "    </tr>\n",
       "    <tr>\n",
       "      <th>RouteSet9042.1</th>\n",
       "      <td>0.600000</td>\n",
       "      <td>6</td>\n",
       "      <td>0</td>\n",
       "      <td>3</td>\n",
       "      <td>9</td>\n",
       "      <td>15</td>\n",
       "      <td>2</td>\n",
       "      <td>-0.412974</td>\n",
       "      <td>0.879630</td>\n",
       "      <td>0.847222</td>\n",
       "      <td>...</td>\n",
       "      <td>0</td>\n",
       "      <td>1</td>\n",
       "      <td>0</td>\n",
       "      <td>0</td>\n",
       "      <td>0</td>\n",
       "      <td>0</td>\n",
       "      <td>0</td>\n",
       "      <td>1</td>\n",
       "      <td>-1.00000</td>\n",
       "      <td>Uncertain</td>\n",
       "    </tr>\n",
       "    <tr>\n",
       "      <th>Building19305.0</th>\n",
       "      <td>0.428571</td>\n",
       "      <td>6</td>\n",
       "      <td>0</td>\n",
       "      <td>4</td>\n",
       "      <td>10</td>\n",
       "      <td>13</td>\n",
       "      <td>2</td>\n",
       "      <td>-0.527046</td>\n",
       "      <td>0.901235</td>\n",
       "      <td>0.822222</td>\n",
       "      <td>...</td>\n",
       "      <td>0</td>\n",
       "      <td>1</td>\n",
       "      <td>0</td>\n",
       "      <td>0</td>\n",
       "      <td>0</td>\n",
       "      <td>0</td>\n",
       "      <td>0</td>\n",
       "      <td>1</td>\n",
       "      <td>3.19876</td>\n",
       "      <td>Uncertain</td>\n",
       "    </tr>\n",
       "    <tr>\n",
       "      <th>Building1136.0</th>\n",
       "      <td>0.428571</td>\n",
       "      <td>6</td>\n",
       "      <td>0</td>\n",
       "      <td>4</td>\n",
       "      <td>10</td>\n",
       "      <td>13</td>\n",
       "      <td>2</td>\n",
       "      <td>-0.527046</td>\n",
       "      <td>0.901235</td>\n",
       "      <td>0.822222</td>\n",
       "      <td>...</td>\n",
       "      <td>0</td>\n",
       "      <td>1</td>\n",
       "      <td>0</td>\n",
       "      <td>0</td>\n",
       "      <td>0</td>\n",
       "      <td>0</td>\n",
       "      <td>0</td>\n",
       "      <td>1</td>\n",
       "      <td>3.19876</td>\n",
       "      <td>Uncertain</td>\n",
       "    </tr>\n",
       "    <tr>\n",
       "      <th>Building24156.0</th>\n",
       "      <td>0.833333</td>\n",
       "      <td>9</td>\n",
       "      <td>0</td>\n",
       "      <td>5</td>\n",
       "      <td>14</td>\n",
       "      <td>24</td>\n",
       "      <td>3</td>\n",
       "      <td>-0.363937</td>\n",
       "      <td>0.838034</td>\n",
       "      <td>0.757639</td>\n",
       "      <td>...</td>\n",
       "      <td>0</td>\n",
       "      <td>2</td>\n",
       "      <td>2</td>\n",
       "      <td>0</td>\n",
       "      <td>0</td>\n",
       "      <td>0</td>\n",
       "      <td>0</td>\n",
       "      <td>2</td>\n",
       "      <td>-1.00000</td>\n",
       "      <td>Trusted</td>\n",
       "    </tr>\n",
       "  </tbody>\n",
       "</table>\n",
       "<p>5 rows × 24 columns</p>\n",
       "</div>"
      ],
      "text/plain": [
       "                 trust_value  entities  agents  activities  nodes  edges  \\\n",
       "id                                                                         \n",
       "Route41053.0        0.833333         9       0           6     15     26   \n",
       "RouteSet9042.1      0.600000         6       0           3      9     15   \n",
       "Building19305.0     0.428571         6       0           4     10     13   \n",
       "Building1136.0      0.428571         6       0           4     10     13   \n",
       "Building24156.0     0.833333         9       0           5     14     24   \n",
       "\n",
       "                 diameter  assortativity       acc     acc_e    ...      \\\n",
       "id                                                              ...       \n",
       "Route41053.0            3      -0.272207  0.891091  0.809409    ...       \n",
       "RouteSet9042.1          2      -0.412974  0.879630  0.847222    ...       \n",
       "Building19305.0         2      -0.527046  0.901235  0.822222    ...       \n",
       "Building1136.0          2      -0.527046  0.901235  0.822222    ...       \n",
       "Building24156.0         3      -0.363937  0.838034  0.757639    ...       \n",
       "\n",
       "                 mfd_e_ag  mfd_a_e  mfd_a_a  mfd_a_ag  mfd_ag_e  mfd_ag_a  \\\n",
       "id                                                                          \n",
       "Route41053.0            0        2        0         0         0         0   \n",
       "RouteSet9042.1          0        1        0         0         0         0   \n",
       "Building19305.0         0        1        0         0         0         0   \n",
       "Building1136.0          0        1        0         0         0         0   \n",
       "Building24156.0         0        2        2         0         0         0   \n",
       "\n",
       "                 mfd_ag_ag  mfd_der  powerlaw_alpha      label  \n",
       "id                                                              \n",
       "Route41053.0             0        2        -1.00000    Trusted  \n",
       "RouteSet9042.1           0        1        -1.00000  Uncertain  \n",
       "Building19305.0          0        1         3.19876  Uncertain  \n",
       "Building1136.0           0        1         3.19876  Uncertain  \n",
       "Building24156.0          0        2        -1.00000    Trusted  \n",
       "\n",
       "[5 rows x 24 columns]"
      ]
     },
     "execution_count": 4,
     "metadata": {},
     "output_type": "execute_result"
    }
   ],
   "source": [
    "trust_threshold = 0.75\n",
    "df['label'] = df.apply(lambda row: 'Trusted' if row.trust_value >= trust_threshold else 'Uncertain', axis=1)\n",
    "df.head()  # The new label column is the last column below"
   ]
  },
  {
   "cell_type": "markdown",
   "metadata": {},
   "source": [
    "Having used the trust valuue to label all the data entities, we remove the `trust_value` column from the data frame."
   ]
  },
  {
   "cell_type": "code",
   "execution_count": 5,
   "metadata": {},
   "outputs": [
    {
     "data": {
      "text/plain": [
       "(14882, 23)"
      ]
     },
     "execution_count": 5,
     "metadata": {},
     "output_type": "execute_result"
    }
   ],
   "source": [
    "# We will not use trust value from now on\n",
    "df.drop('trust_value', axis=1, inplace=True)\n",
    "df.shape  # the dataframe now have 23 columns (22 metrics + label)"
   ]
  },
  {
   "cell_type": "markdown",
   "metadata": {},
   "source": [
    "## Filtering data\n",
    "We split the dataset into three: buildings, routes, and route sets."
   ]
  },
  {
   "cell_type": "code",
   "execution_count": 6,
   "metadata": {},
   "outputs": [
    {
     "data": {
      "text/plain": [
       "((5175, 23), (4710, 23), (4997, 23))"
      ]
     },
     "execution_count": 6,
     "metadata": {},
     "output_type": "execute_result"
    }
   ],
   "source": [
    "df_buildings = df.filter(like=\"Building\", axis=0)\n",
    "df_routes = df.filter(like=\"RouteSet\", axis=0)\n",
    "df_routesets = df.filter(regex=\"^Route\\d\", axis=0)\n",
    "df_buildings.shape, df_routes.shape, df_routesets.shape  # The number of data points in each dataset"
   ]
  },
  {
   "cell_type": "markdown",
   "metadata": {},
   "source": [
    "## Balancing Data\n",
    "This section explore the balance of each of the three datasets and balance them using the [SMOTE Oversampling Method](https://www.jair.org/media/953/live-953-2037-jair.pdf)."
   ]
  },
  {
   "cell_type": "code",
   "execution_count": 7,
   "metadata": {
    "collapsed": true
   },
   "outputs": [],
   "source": [
    "from analytics import balance_smote"
   ]
  },
  {
   "cell_type": "markdown",
   "metadata": {},
   "source": [
    "### Buildings"
   ]
  },
  {
   "cell_type": "code",
   "execution_count": 8,
   "metadata": {},
   "outputs": [
    {
     "data": {
      "text/plain": [
       "Trusted      4491\n",
       "Uncertain     684\n",
       "Name: label, dtype: int64"
      ]
     },
     "execution_count": 8,
     "metadata": {},
     "output_type": "execute_result"
    }
   ],
   "source": [
    "df_buildings.label.value_counts()"
   ]
  },
  {
   "cell_type": "markdown",
   "metadata": {},
   "source": [
    "Balancing the building dataset:"
   ]
  },
  {
   "cell_type": "code",
   "execution_count": 9,
   "metadata": {},
   "outputs": [
    {
     "name": "stdout",
     "output_type": "stream",
     "text": [
      "Original data shapes: (5175, 22) (5175,)\n",
      "Balanced data shapes: (8982, 22) (8982,)\n"
     ]
    }
   ],
   "source": [
    "df_buildings = balance_smote(df_buildings)"
   ]
  },
  {
   "cell_type": "markdown",
   "metadata": {},
   "source": [
    "### Routes"
   ]
  },
  {
   "cell_type": "code",
   "execution_count": 10,
   "metadata": {
    "scrolled": true
   },
   "outputs": [
    {
     "data": {
      "text/plain": [
       "Trusted      3019\n",
       "Uncertain    1691\n",
       "Name: label, dtype: int64"
      ]
     },
     "execution_count": 10,
     "metadata": {},
     "output_type": "execute_result"
    }
   ],
   "source": [
    "df_routes.label.value_counts()"
   ]
  },
  {
   "cell_type": "markdown",
   "metadata": {},
   "source": [
    "Balancing the route dataset:"
   ]
  },
  {
   "cell_type": "code",
   "execution_count": 11,
   "metadata": {},
   "outputs": [
    {
     "name": "stdout",
     "output_type": "stream",
     "text": [
      "Original data shapes: (4710, 22) (4710,)\n",
      "Balanced data shapes: (6038, 22) (6038,)\n"
     ]
    }
   ],
   "source": [
    "df_routes = balance_smote(df_routes)"
   ]
  },
  {
   "cell_type": "markdown",
   "metadata": {},
   "source": [
    "### Route Sets"
   ]
  },
  {
   "cell_type": "code",
   "execution_count": 12,
   "metadata": {},
   "outputs": [
    {
     "data": {
      "text/plain": [
       "Trusted      3908\n",
       "Uncertain    1089\n",
       "Name: label, dtype: int64"
      ]
     },
     "execution_count": 12,
     "metadata": {},
     "output_type": "execute_result"
    }
   ],
   "source": [
    "df_routesets.label.value_counts()"
   ]
  },
  {
   "cell_type": "markdown",
   "metadata": {},
   "source": [
    "Balancing the route set dataset:"
   ]
  },
  {
   "cell_type": "code",
   "execution_count": 13,
   "metadata": {},
   "outputs": [
    {
     "name": "stdout",
     "output_type": "stream",
     "text": [
      "Original data shapes: (4997, 22) (4997,)\n",
      "Balanced data shapes: (7816, 22) (7816,)\n"
     ]
    }
   ],
   "source": [
    "df_routesets = balance_smote(df_routesets)"
   ]
  },
  {
   "cell_type": "markdown",
   "metadata": {},
   "source": [
    "## Cross Validation\n",
    "\n",
    "We now run the cross validation tests on the three balanaced datasets (`df_buildings`, `df_routes`, and `df_routesets`) using all the features (`combined`), only the generic network metrics (`generic`), and only the provenance-specific network metrics (`provenance`). Please refer to [Cross Validation Code.ipynb](Cross%20Validation%20Code.ipynb) for the detailed description of the cross validation code."
   ]
  },
  {
   "cell_type": "code",
   "execution_count": 14,
   "metadata": {
    "collapsed": true
   },
   "outputs": [],
   "source": [
    "from analytics import test_classification"
   ]
  },
  {
   "cell_type": "markdown",
   "metadata": {},
   "source": [
    "### Building Classification\n",
    "\n",
    "We test the classification of buildings, collect individual accuracy scores `results` and the importance of every feature in each test in `importances` (both are Pandas Dataframes). These two tables will also be used to collect data from testing the classification of routes and route sets later."
   ]
  },
  {
   "cell_type": "code",
   "execution_count": 15,
   "metadata": {},
   "outputs": [
    {
     "name": "stdout",
     "output_type": "stream",
     "text": [
      "Accuracy: 90.10% ±0.0556 <-- combined\n",
      "Accuracy: 90.11% ±0.0571 <-- generic\n",
      "Accuracy: 89.99% ±0.0558 <-- provenance\n"
     ]
    },
    {
     "data": {
      "text/html": [
       "<div>\n",
       "<style>\n",
       "    .dataframe thead tr:only-child th {\n",
       "        text-align: right;\n",
       "    }\n",
       "\n",
       "    .dataframe thead th {\n",
       "        text-align: left;\n",
       "    }\n",
       "\n",
       "    .dataframe tbody tr th {\n",
       "        vertical-align: top;\n",
       "    }\n",
       "</style>\n",
       "<table border=\"1\" class=\"dataframe\">\n",
       "  <thead>\n",
       "    <tr style=\"text-align: right;\">\n",
       "      <th></th>\n",
       "      <th>Accuracy</th>\n",
       "      <th>Metrics</th>\n",
       "      <th>Data Type</th>\n",
       "    </tr>\n",
       "  </thead>\n",
       "  <tbody>\n",
       "    <tr>\n",
       "      <th>2995</th>\n",
       "      <td>0.886414</td>\n",
       "      <td>provenance</td>\n",
       "      <td>Building</td>\n",
       "    </tr>\n",
       "    <tr>\n",
       "      <th>2996</th>\n",
       "      <td>0.903118</td>\n",
       "      <td>provenance</td>\n",
       "      <td>Building</td>\n",
       "    </tr>\n",
       "    <tr>\n",
       "      <th>2997</th>\n",
       "      <td>0.903118</td>\n",
       "      <td>provenance</td>\n",
       "      <td>Building</td>\n",
       "    </tr>\n",
       "    <tr>\n",
       "      <th>2998</th>\n",
       "      <td>0.896437</td>\n",
       "      <td>provenance</td>\n",
       "      <td>Building</td>\n",
       "    </tr>\n",
       "    <tr>\n",
       "      <th>2999</th>\n",
       "      <td>0.896437</td>\n",
       "      <td>provenance</td>\n",
       "      <td>Building</td>\n",
       "    </tr>\n",
       "  </tbody>\n",
       "</table>\n",
       "</div>"
      ],
      "text/plain": [
       "      Accuracy     Metrics Data Type\n",
       "2995  0.886414  provenance  Building\n",
       "2996  0.903118  provenance  Building\n",
       "2997  0.903118  provenance  Building\n",
       "2998  0.896437  provenance  Building\n",
       "2999  0.896437  provenance  Building"
      ]
     },
     "execution_count": 15,
     "metadata": {},
     "output_type": "execute_result"
    }
   ],
   "source": [
    "# Cross validation test on building classification\n",
    "res, imps = test_classification(df_buildings)\n",
    "\n",
    "# adding the Data Type column\n",
    "res['Data Type'] = 'Building'\n",
    "imps['Data Type'] = 'Building'\n",
    "\n",
    "# storing the results and importance of features\n",
    "results = res\n",
    "importances = imps\n",
    "\n",
    "# showing a few newest rows\n",
    "results.tail()"
   ]
  },
  {
   "cell_type": "markdown",
   "metadata": {},
   "source": [
    "### Route Classification"
   ]
  },
  {
   "cell_type": "code",
   "execution_count": 16,
   "metadata": {},
   "outputs": [
    {
     "name": "stdout",
     "output_type": "stream",
     "text": [
      "Accuracy: 95.76% ±0.0472 <-- combined\n",
      "Accuracy: 95.32% ±0.0511 <-- generic\n",
      "Accuracy: 95.47% ±0.0494 <-- provenance\n"
     ]
    },
    {
     "data": {
      "text/html": [
       "<div>\n",
       "<style>\n",
       "    .dataframe thead tr:only-child th {\n",
       "        text-align: right;\n",
       "    }\n",
       "\n",
       "    .dataframe thead th {\n",
       "        text-align: left;\n",
       "    }\n",
       "\n",
       "    .dataframe tbody tr th {\n",
       "        vertical-align: top;\n",
       "    }\n",
       "</style>\n",
       "<table border=\"1\" class=\"dataframe\">\n",
       "  <thead>\n",
       "    <tr style=\"text-align: right;\">\n",
       "      <th></th>\n",
       "      <th>Accuracy</th>\n",
       "      <th>Metrics</th>\n",
       "      <th>Data Type</th>\n",
       "    </tr>\n",
       "  </thead>\n",
       "  <tbody>\n",
       "    <tr>\n",
       "      <th>5995</th>\n",
       "      <td>0.958609</td>\n",
       "      <td>provenance</td>\n",
       "      <td>Route</td>\n",
       "    </tr>\n",
       "    <tr>\n",
       "      <th>5996</th>\n",
       "      <td>0.960265</td>\n",
       "      <td>provenance</td>\n",
       "      <td>Route</td>\n",
       "    </tr>\n",
       "    <tr>\n",
       "      <th>5997</th>\n",
       "      <td>0.960265</td>\n",
       "      <td>provenance</td>\n",
       "      <td>Route</td>\n",
       "    </tr>\n",
       "    <tr>\n",
       "      <th>5998</th>\n",
       "      <td>0.951987</td>\n",
       "      <td>provenance</td>\n",
       "      <td>Route</td>\n",
       "    </tr>\n",
       "    <tr>\n",
       "      <th>5999</th>\n",
       "      <td>0.943522</td>\n",
       "      <td>provenance</td>\n",
       "      <td>Route</td>\n",
       "    </tr>\n",
       "  </tbody>\n",
       "</table>\n",
       "</div>"
      ],
      "text/plain": [
       "      Accuracy     Metrics Data Type\n",
       "5995  0.958609  provenance     Route\n",
       "5996  0.960265  provenance     Route\n",
       "5997  0.960265  provenance     Route\n",
       "5998  0.951987  provenance     Route\n",
       "5999  0.943522  provenance     Route"
      ]
     },
     "execution_count": 16,
     "metadata": {},
     "output_type": "execute_result"
    }
   ],
   "source": [
    "# Cross validation test on route classification\n",
    "res, imps = test_classification(df_routes)\n",
    "\n",
    "# adding the Data Type column\n",
    "res['Data Type'] = 'Route'\n",
    "imps['Data Type'] = 'Route'\n",
    "\n",
    "# storing the results and importance of features\n",
    "results = results.append(res, ignore_index=True)\n",
    "importances = importances.append(imps, ignore_index=True)\n",
    "\n",
    "# showing a few newest rows\n",
    "results.tail()"
   ]
  },
  {
   "cell_type": "markdown",
   "metadata": {},
   "source": [
    "### Route Set Classification"
   ]
  },
  {
   "cell_type": "code",
   "execution_count": 17,
   "metadata": {},
   "outputs": [
    {
     "name": "stdout",
     "output_type": "stream",
     "text": [
      "Accuracy: 96.88% ±0.0398 <-- combined\n",
      "Accuracy: 96.64% ±0.0388 <-- generic\n",
      "Accuracy: 96.09% ±0.0434 <-- provenance\n"
     ]
    },
    {
     "data": {
      "text/html": [
       "<div>\n",
       "<style>\n",
       "    .dataframe thead tr:only-child th {\n",
       "        text-align: right;\n",
       "    }\n",
       "\n",
       "    .dataframe thead th {\n",
       "        text-align: left;\n",
       "    }\n",
       "\n",
       "    .dataframe tbody tr th {\n",
       "        vertical-align: top;\n",
       "    }\n",
       "</style>\n",
       "<table border=\"1\" class=\"dataframe\">\n",
       "  <thead>\n",
       "    <tr style=\"text-align: right;\">\n",
       "      <th></th>\n",
       "      <th>Accuracy</th>\n",
       "      <th>Metrics</th>\n",
       "      <th>Data Type</th>\n",
       "    </tr>\n",
       "  </thead>\n",
       "  <tbody>\n",
       "    <tr>\n",
       "      <th>8995</th>\n",
       "      <td>0.966752</td>\n",
       "      <td>provenance</td>\n",
       "      <td>Route Set</td>\n",
       "    </tr>\n",
       "    <tr>\n",
       "      <th>8996</th>\n",
       "      <td>0.946292</td>\n",
       "      <td>provenance</td>\n",
       "      <td>Route Set</td>\n",
       "    </tr>\n",
       "    <tr>\n",
       "      <th>8997</th>\n",
       "      <td>0.961637</td>\n",
       "      <td>provenance</td>\n",
       "      <td>Route Set</td>\n",
       "    </tr>\n",
       "    <tr>\n",
       "      <th>8998</th>\n",
       "      <td>0.956410</td>\n",
       "      <td>provenance</td>\n",
       "      <td>Route Set</td>\n",
       "    </tr>\n",
       "    <tr>\n",
       "      <th>8999</th>\n",
       "      <td>0.962821</td>\n",
       "      <td>provenance</td>\n",
       "      <td>Route Set</td>\n",
       "    </tr>\n",
       "  </tbody>\n",
       "</table>\n",
       "</div>"
      ],
      "text/plain": [
       "      Accuracy     Metrics  Data Type\n",
       "8995  0.966752  provenance  Route Set\n",
       "8996  0.946292  provenance  Route Set\n",
       "8997  0.961637  provenance  Route Set\n",
       "8998  0.956410  provenance  Route Set\n",
       "8999  0.962821  provenance  Route Set"
      ]
     },
     "execution_count": 17,
     "metadata": {},
     "output_type": "execute_result"
    }
   ],
   "source": [
    "# Cross validation test on route classification\n",
    "res, imps = test_classification(df_routesets)\n",
    "\n",
    "# adding the Data Type column\n",
    "res['Data Type'] = 'Route Set'\n",
    "imps['Data Type'] = 'Route Set'\n",
    "\n",
    "# storing the results and importance of features\n",
    "results = results.append(res, ignore_index=True)\n",
    "importances = importances.append(imps, ignore_index=True)\n",
    "\n",
    "# showing a few newest rows\n",
    "results.tail()"
   ]
  },
  {
   "cell_type": "markdown",
   "metadata": {},
   "source": [
    "### Saving experiments' results (optional)\n",
    "\n",
    "Optionally, we can save the test results to save time the next time we want to re-explore them:"
   ]
  },
  {
   "cell_type": "code",
   "execution_count": 18,
   "metadata": {
    "collapsed": true
   },
   "outputs": [],
   "source": [
    "results.to_pickle(\"collabmap/results.pkl\")\n",
    "importances.to_pickle(\"collabmap/importances.pkl\")"
   ]
  },
  {
   "cell_type": "markdown",
   "metadata": {},
   "source": [
    "Next time, we can reload the results as follows:"
   ]
  },
  {
   "cell_type": "code",
   "execution_count": 19,
   "metadata": {},
   "outputs": [
    {
     "data": {
      "text/plain": [
       "((9000, 3), (3000, 23))"
      ]
     },
     "execution_count": 19,
     "metadata": {},
     "output_type": "execute_result"
    }
   ],
   "source": [
    "import pandas as pd\n",
    "results = pd.read_pickle(\"collabmap/results.pkl\")\n",
    "importances = pd.read_pickle(\"collabmap/importances.pkl\")\n",
    "results.shape, importances.shape  # showing the shape of the data (for checking)"
   ]
  },
  {
   "cell_type": "markdown",
   "metadata": {
    "collapsed": true
   },
   "source": [
    "### Charting the accuracy scores"
   ]
  },
  {
   "cell_type": "code",
   "execution_count": 20,
   "metadata": {
    "collapsed": true
   },
   "outputs": [],
   "source": [
    "%matplotlib inline\n",
    "import seaborn as sns\n",
    "sns.set_style(\"whitegrid\")\n",
    "sns.set_context(\"paper\", font_scale=1.4)"
   ]
  },
  {
   "cell_type": "markdown",
   "metadata": {},
   "source": [
    "Converting the accuracy score from [0, 1] to percentage, i.e [0, 100]:"
   ]
  },
  {
   "cell_type": "code",
   "execution_count": 21,
   "metadata": {},
   "outputs": [
    {
     "data": {
      "text/html": [
       "<div>\n",
       "<style>\n",
       "    .dataframe thead tr:only-child th {\n",
       "        text-align: right;\n",
       "    }\n",
       "\n",
       "    .dataframe thead th {\n",
       "        text-align: left;\n",
       "    }\n",
       "\n",
       "    .dataframe tbody tr th {\n",
       "        vertical-align: top;\n",
       "    }\n",
       "</style>\n",
       "<table border=\"1\" class=\"dataframe\">\n",
       "  <thead>\n",
       "    <tr style=\"text-align: right;\">\n",
       "      <th></th>\n",
       "      <th>Accuracy</th>\n",
       "      <th>Metrics</th>\n",
       "      <th>Data Type</th>\n",
       "    </tr>\n",
       "  </thead>\n",
       "  <tbody>\n",
       "    <tr>\n",
       "      <th>0</th>\n",
       "      <td>91.000000</td>\n",
       "      <td>combined</td>\n",
       "      <td>Building</td>\n",
       "    </tr>\n",
       "    <tr>\n",
       "      <th>1</th>\n",
       "      <td>91.870824</td>\n",
       "      <td>combined</td>\n",
       "      <td>Building</td>\n",
       "    </tr>\n",
       "    <tr>\n",
       "      <th>2</th>\n",
       "      <td>88.418708</td>\n",
       "      <td>combined</td>\n",
       "      <td>Building</td>\n",
       "    </tr>\n",
       "    <tr>\n",
       "      <th>3</th>\n",
       "      <td>89.420935</td>\n",
       "      <td>combined</td>\n",
       "      <td>Building</td>\n",
       "    </tr>\n",
       "    <tr>\n",
       "      <th>4</th>\n",
       "      <td>89.198218</td>\n",
       "      <td>combined</td>\n",
       "      <td>Building</td>\n",
       "    </tr>\n",
       "  </tbody>\n",
       "</table>\n",
       "</div>"
      ],
      "text/plain": [
       "    Accuracy   Metrics Data Type\n",
       "0  91.000000  combined  Building\n",
       "1  91.870824  combined  Building\n",
       "2  88.418708  combined  Building\n",
       "3  89.420935  combined  Building\n",
       "4  89.198218  combined  Building"
      ]
     },
     "execution_count": 21,
     "metadata": {},
     "output_type": "execute_result"
    }
   ],
   "source": [
    "results.Accuracy = results.Accuracy * 100\n",
    "results.head()"
   ]
  },
  {
   "cell_type": "code",
   "execution_count": 22,
   "metadata": {
    "collapsed": true
   },
   "outputs": [],
   "source": [
    "from matplotlib.font_manager import FontProperties\n",
    "fontP = FontProperties()\n",
    "fontP.set_size(12)"
   ]
  },
  {
   "cell_type": "code",
   "execution_count": 23,
   "metadata": {},
   "outputs": [
    {
     "data": {
      "text/plain": [
       "<matplotlib.text.Text at 0x1174b1cc0>"
      ]
     },
     "execution_count": 23,
     "metadata": {},
     "output_type": "execute_result"
    },
    {
     "data": {
      "image/png": "[encoded data removed]",
      "text/plain": [
       "<matplotlib.figure.Figure at 0x116867e48>"
      ]
     },
     "metadata": {},
     "output_type": "display_data"
    }
   ],
   "source": [
    "pal = sns.light_palette(\"seagreen\", n_colors=3, reverse=True)\n",
    "plot = sns.barplot(x=\"Data Type\", y=\"Accuracy\", hue='Metrics', palette=pal, errwidth=1, capsize=0.02, data=results)\n",
    "plot.set_ylim(80, 100)\n",
    "plot.legend(loc='upper center', bbox_to_anchor=(0.5, 1.0), ncol=3)\n",
    "plot.set_ylabel('Accuracy (%)')"
   ]
  },
  {
   "cell_type": "markdown",
   "metadata": {},
   "source": [
    "Saving the chart above to `Fig4.eps` to be included in the paper:"
   ]
  },
  {
   "cell_type": "code",
   "execution_count": 24,
   "metadata": {
    "collapsed": true
   },
   "outputs": [],
   "source": [
    "plot.get_figure().savefig(\"figures/Fig4.eps\")"
   ]
  },
  {
   "cell_type": "markdown",
   "metadata": {
    "collapsed": true
   },
   "source": [
    "### Charting the importance of features\n",
    "\n",
    "In this section, we explore the relevance of each features in classifying the data quality of CollabMap buildings, routes, and route sets. To do so, we analyse the feature importance values provided by the decision tree training done above - the `importances` data frame."
   ]
  },
  {
   "cell_type": "code",
   "execution_count": 25,
   "metadata": {
    "collapsed": true
   },
   "outputs": [],
   "source": [
    "import numpy as np"
   ]
  },
  {
   "cell_type": "code",
   "execution_count": 26,
   "metadata": {
    "collapsed": true
   },
   "outputs": [],
   "source": [
    "# Rename the columns with Math notation for consistency with the metrics symbols in the paper\n",
    "feature_name_maths_mapping = {\n",
    "    \"entities\": \"$n_e$\", \"agents\": \"$n_{ag}$\", \"activities\": \"$n_a$\", \"nodes\": \"$n$\", \"edges\": \"$e$\",\n",
    "    \"diameter\": \"$d$\", \"assortativity\": \"$r$\", \"acc\": \"$\\\\mathsf{ACC}$\",\n",
    "    \"acc_e\": \"$\\\\mathsf{ACC}_e$\",  \"acc_a\": \"$\\\\mathsf{ACC}_a$\",  \"acc_ag\": \"$\\\\mathsf{ACC}_{ag}$\",\n",
    "    \"mfd_e_e\": \"$\\\\mathrm{mfd}_{e \\\\rightarrow e}$\", \"mfd_e_a\": \"$\\\\mathrm{mfd}_{e \\\\rightarrow a}$\",\n",
    "    \"mfd_e_ag\": \"$\\\\mathrm{mfd}_{e \\\\rightarrow ag}$\", \"mfd_a_e\": \"$\\\\mathrm{mfd}_{a \\\\rightarrow e}$\",\n",
    "    \"mfd_a_a\": \"$\\\\mathrm{mfd}_{a \\\\rightarrow a}$\", \"mfd_a_ag\": \"$\\\\mathrm{mfd}_{a \\\\rightarrow ag}$\",\n",
    "    \"mfd_ag_e\": \"$\\\\mathrm{mfd}_{ag \\\\rightarrow e}$\", \"mfd_ag_a\": \"$\\\\mathrm{mfd}_{ag \\\\rightarrow a}$\",\n",
    "    \"mfd_ag_ag\": \"$\\\\mathrm{mfd}_{ag \\\\rightarrow ag}$\", \"mfd_der\": \"$\\\\mathrm{mfd}_\\\\mathit{der}$\", \"powerlaw_alpha\": \"$\\\\alpha$\"\n",
    "}\n",
    "importances.rename(columns=feature_name_maths_mapping, inplace=True)"
   ]
  },
  {
   "cell_type": "code",
   "execution_count": 27,
   "metadata": {
    "collapsed": true
   },
   "outputs": [],
   "source": [
    "grouped =importances.groupby(\"Data Type\")  # Grouping the importance values by data type"
   ]
  },
  {
   "cell_type": "code",
   "execution_count": 28,
   "metadata": {},
   "outputs": [
    {
     "data": {
      "text/plain": [
       "Building          Axes(0.1,0.15;0.235294x0.75)\n",
       "Route        Axes(0.382353,0.15;0.235294x0.75)\n",
       "Route Set    Axes(0.664706,0.15;0.235294x0.75)\n",
       "dtype: object"
      ]
     },
     "execution_count": 28,
     "metadata": {},
     "output_type": "execute_result"
    },
    {
     "data": {
      "image/png": "[encoded data removed]",
      "text/plain": [
       "<matplotlib.figure.Figure at 0x113ae5828>"
      ]
     },
     "metadata": {},
     "output_type": "display_data"
    }
   ],
   "source": [
    "sns.set_context(\"talk\")\n",
    "grouped.boxplot(figsize=(16, 5), layout=(1, 3), rot=90)"
   ]
  },
  {
   "cell_type": "markdown",
   "metadata": {},
   "source": [
    "The charts above show us the relevance of each feature in classifying the quality of CollabMap buildings, routes, and route sets. Next, we find the three most relevant features for each data type to report in the paper."
   ]
  },
  {
   "cell_type": "code",
   "execution_count": 29,
   "metadata": {
    "collapsed": true
   },
   "outputs": [],
   "source": [
    "# Calculate the mean importance of each feature for each data type\n",
    "imp_means = grouped.mean()"
   ]
  },
  {
   "cell_type": "code",
   "execution_count": 30,
   "metadata": {},
   "outputs": [
    {
     "data": {
      "text/html": [
       "<div>\n",
       "<style>\n",
       "    .dataframe thead tr:only-child th {\n",
       "        text-align: right;\n",
       "    }\n",
       "\n",
       "    .dataframe thead th {\n",
       "        text-align: left;\n",
       "    }\n",
       "\n",
       "    .dataframe tbody tr th {\n",
       "        vertical-align: top;\n",
       "    }\n",
       "</style>\n",
       "<table border=\"1\" class=\"dataframe\">\n",
       "  <thead>\n",
       "    <tr style=\"text-align: right;\">\n",
       "      <th></th>\n",
       "      <th>Building</th>\n",
       "      <th>Route</th>\n",
       "      <th>Route Set</th>\n",
       "    </tr>\n",
       "  </thead>\n",
       "  <tbody>\n",
       "    <tr>\n",
       "      <th>0</th>\n",
       "      <td>$r$</td>\n",
       "      <td>$r$</td>\n",
       "      <td>$\\mathsf{ACC}$</td>\n",
       "    </tr>\n",
       "    <tr>\n",
       "      <th>1</th>\n",
       "      <td>$\\mathsf{ACC}_e$</td>\n",
       "      <td>$\\mathsf{ACC}_e$</td>\n",
       "      <td>$\\mathrm{mfd}_\\mathit{der}$</td>\n",
       "    </tr>\n",
       "    <tr>\n",
       "      <th>2</th>\n",
       "      <td>$\\mathsf{ACC}$</td>\n",
       "      <td>$n_a$</td>\n",
       "      <td>$\\mathrm{mfd}_{e \\rightarrow e}$</td>\n",
       "    </tr>\n",
       "  </tbody>\n",
       "</table>\n",
       "</div>"
      ],
      "text/plain": [
       "           Building             Route                         Route Set\n",
       "0               $r$               $r$                    $\\mathsf{ACC}$\n",
       "1  $\\mathsf{ACC}_e$  $\\mathsf{ACC}_e$       $\\mathrm{mfd}_\\mathit{der}$\n",
       "2    $\\mathsf{ACC}$             $n_a$  $\\mathrm{mfd}_{e \\rightarrow e}$"
      ]
     },
     "execution_count": 30,
     "metadata": {},
     "output_type": "execute_result"
    }
   ],
   "source": [
    "pd.DataFrame(\n",
    "    {row_name: row.sort_values(ascending=False)[:3].index.get_values()\n",
    "        for row_name, row in imp_means.iterrows()\n",
    "    }\n",
    ")"
   ]
  },
  {
   "cell_type": "markdown",
   "metadata": {
    "collapsed": true
   },
   "source": [
    "The table above shows the most important metrics as reported by the decision tree classifiers during their training for each dataset."
   ]
  },
  {
   "cell_type": "markdown",
   "metadata": {},
   "source": [
    "### Retest the classifications using minimal sets of features (Extra)\n",
    "\n",
    "Armed with the knowledge of the three most important features in each experiment, we re-run the experiments using only those."
   ]
  },
  {
   "cell_type": "code",
   "execution_count": 31,
   "metadata": {
    "collapsed": true
   },
   "outputs": [],
   "source": [
    "from analytics import cv_test"
   ]
  },
  {
   "cell_type": "code",
   "execution_count": 32,
   "metadata": {},
   "outputs": [
    {
     "name": "stdout",
     "output_type": "stream",
     "text": [
      "Accuracy: 89.99% ±0.0587 <-- Building\n"
     ]
    }
   ],
   "source": [
    "res, imps = cv_test(df_buildings[['assortativity', 'acc_e', 'entities']], df_buildings.label, test_id=\"Building\")"
   ]
  },
  {
   "cell_type": "code",
   "execution_count": 33,
   "metadata": {},
   "outputs": [
    {
     "name": "stdout",
     "output_type": "stream",
     "text": [
      "Accuracy: 95.27% ±0.0506 <-- Route\n"
     ]
    }
   ],
   "source": [
    "res, imps = cv_test(df_routes[['assortativity', 'acc_e', 'acc']], df_routes.label, test_id=\"Route\")"
   ]
  },
  {
   "cell_type": "code",
   "execution_count": 34,
   "metadata": {},
   "outputs": [
    {
     "name": "stdout",
     "output_type": "stream",
     "text": [
      "Accuracy: 93.78% ±0.0504 <-- Routeset\n"
     ]
    }
   ],
   "source": [
    "res, imps = cv_test(df_routesets[['acc', 'mfd_e_e', 'mfd_a_e']], df_routesets.label, test_id=\"Routeset\")"
   ]
  },
  {
   "cell_type": "markdown",
   "metadata": {
    "collapsed": true
   },
   "source": [
    "As shown above, using only _three metrics_ from each dataset, we can still achieve a high level of accuracy from the classifiers: 90%, 95%, and 93% for buildings, routes, and route sets, respectively."
   ]
  }
 ],
 "metadata": {
  "kernelspec": {
   "display_name": "Python 3",
   "language": "python",
   "name": "python3"
  },
  "language_info": {
   "codemirror_mode": {
    "name": "ipython",
    "version": 3
   },
   "file_extension": ".py",
   "mimetype": "text/x-python",
   "name": "python",
   "nbconvert_exporter": "python",
   "pygments_lexer": "ipython3",
   "version": "3.6.2"
  }
 },
 "nbformat": 4,
 "nbformat_minor": 2
}
